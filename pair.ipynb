{
 "cells": [
  {
   "cell_type": "code",
   "execution_count": 16,
   "metadata": {},
   "outputs": [],
   "source": [
    "from deepfold.utils.file_utils import dump_pickle, load_pickle\n",
    "from deepfold.data.multimer.input_features import process, Complex\n",
    "from pathlib import Path\n",
    "import numpy as np"
   ]
  },
  {
   "cell_type": "code",
   "execution_count": 17,
   "metadata": {},
   "outputs": [],
   "source": [
    "feat_1 = load_pickle(\"/gpfs/deepfold/casp/casp16/H1202/T1202s1/features/features_m1.pkz\")\n",
    "feat_2 = load_pickle(\"/gpfs/deepfold/casp/casp16/H1202/T1202s2/features/features_m1.pkz\")"
   ]
  },
  {
   "cell_type": "code",
   "execution_count": 18,
   "metadata": {},
   "outputs": [],
   "source": [
    "stoi = Complex([\"T1202s1\", \"T1202s2\"], [2, 2])"
   ]
  },
  {
   "cell_type": "code",
   "execution_count": 19,
   "metadata": {},
   "outputs": [
    {
     "name": "stdout",
     "output_type": "stream",
     "text": [
      "aatype (380,)\n",
      "residue_index (380,)\n",
      "seq_length ()\n",
      "msa (3180, 380)\n",
      "num_alignments ()\n",
      "template_aatype (4, 380)\n",
      "template_all_atom_positions (4, 380, 37, 3)\n",
      "template_all_atom_mask (4, 380, 37)\n",
      "asym_id (380,)\n",
      "sym_id (380,)\n",
      "entity_id (380,)\n",
      "deletion_matrix (3180, 380)\n",
      "deletion_mean (380,)\n",
      "all_atom_mask (380, 37)\n",
      "all_atom_positions (380, 37, 3)\n",
      "assembly_num_chains ()\n",
      "entity_mask (380,)\n",
      "num_templates ()\n",
      "cluster_bias_mask (3180,)\n",
      "bert_mask (3180, 380)\n",
      "seq_mask (380,)\n",
      "msa_mask (3180, 380)\n"
     ]
    }
   ],
   "source": [
    "out_path = Path(\"out/features_m1+m1.pkz\")\n",
    "example = process(\n",
    "    complex=stoi,\n",
    "    all_monomer_features={\"T1202s1\": feat_1, \"T1202s2\": feat_2},\n",
    "    msas_with_identifiers={\"T1202s1\": \"\", \"T1202s2\": \"\"},\n",
    ")\n",
    "for k, v in example.items():\n",
    "    print(k, v.shape if isinstance(v, np.ndarray) else len(v))\n",
    "dump_pickle(example, out_path)"
   ]
  },
  {
   "cell_type": "code",
   "execution_count": null,
   "metadata": {},
   "outputs": [],
   "source": []
  }
 ],
 "metadata": {
  "kernelspec": {
   "display_name": "deepfold2-dev",
   "language": "python",
   "name": "python3"
  },
  "language_info": {
   "codemirror_mode": {
    "name": "ipython",
    "version": 3
   },
   "file_extension": ".py",
   "mimetype": "text/x-python",
   "name": "python",
   "nbconvert_exporter": "python",
   "pygments_lexer": "ipython3",
   "version": "3.10.14"
  }
 },
 "nbformat": 4,
 "nbformat_minor": 2
}
