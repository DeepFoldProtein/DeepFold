{
 "cells": [
  {
   "cell_type": "code",
   "execution_count": null,
   "metadata": {},
   "outputs": [],
   "source": []
  },
  {
   "cell_type": "code",
   "execution_count": 1,
   "metadata": {},
   "outputs": [],
   "source": [
    "from glob import glob\n",
    "from itertools import combinations\n",
    "from multiprocessing import Pool\n",
    "import subprocess\n",
    "\n",
    "import numpy as np\n",
    "from matplotlib import pyplot as plt\n",
    "from scipy.cluster.hierarchy import ward, fcluster\n",
    "from scipy.spatial.distance import pdist, squareform"
   ]
  },
  {
   "cell_type": "code",
   "execution_count": 13,
   "metadata": {},
   "outputs": [],
   "source": [
    "def get_dist(pair):\n",
    "    x, y = pair\n",
    "    if x == y:\n",
    "        return 1.0\n",
    "    lines = (\n",
    "        subprocess.run(\n",
    "            [\n",
    "                \"/runs/users/vv137/bin/USalign\",\n",
    "                \"-outfmt\",\n",
    "                \"2\",\n",
    "                x,\n",
    "                y,\n",
    "            ],\n",
    "            stdout=subprocess.PIPE,\n",
    "        )\n",
    "        .stdout.decode()\n",
    "        .splitlines()\n",
    "    )\n",
    "    line = lines[1]\n",
    "    return float(line.split()[3])  # TM1"
   ]
  },
  {
   "cell_type": "code",
   "execution_count": 14,
   "metadata": {},
   "outputs": [
    {
     "name": "stdout",
     "output_type": "stream",
     "text": [
      "../out/H0215/AF0/relaxed_model_1_v3.pdb\n",
      "../out/H0215/AF0/relaxed_model_5_v2.pdb\n",
      "../out/H0215/AF0/relaxed_model_3_v2.pdb\n",
      "../out/H0215/AF0/relaxed_model_1_v2.pdb\n",
      "../out/H0215/AF0/relaxed_model_2_v2.pdb\n",
      "../out/H0215/AF0/relaxed_model_4_v3.pdb\n",
      "../out/H0215/AF0/relaxed_model_5_v3.pdb\n",
      "../out/H0215/AF0/relaxed_model_3_v3.pdb\n",
      "../out/H0215/AF0/relaxed_model_2_v3.pdb\n",
      "../out/H0215/AF0/relaxed_model_4_v2.pdb\n",
      "../out/H0215/C2M/relaxed_model_1_v3.pdb\n",
      "../out/H0215/C2M/relaxed_model_5_v2.pdb\n",
      "../out/H0215/C2M/relaxed_model_3_v2.pdb\n",
      "../out/H0215/C2M/relaxed_model_1_v2.pdb\n",
      "../out/H0215/C2M/relaxed_model_2_v2.pdb\n",
      "../out/H0215/C2M/relaxed_model_4_v3.pdb\n",
      "../out/H0215/C2M/relaxed_model_5_v3.pdb\n",
      "../out/H0215/C2M/relaxed_model_3_v3.pdb\n",
      "../out/H0215/C2M/relaxed_model_2_v3.pdb\n",
      "../out/H0215/C2M/relaxed_model_4_v2.pdb\n",
      "../out/H0215/CPM/relaxed_model_1_v3.pdb\n",
      "../out/H0215/CPM/relaxed_model_5_v2.pdb\n",
      "../out/H0215/CPM/relaxed_model_3_v2.pdb\n",
      "../out/H0215/CPM/relaxed_model_1_v2.pdb\n",
      "../out/H0215/CPM/relaxed_model_2_v2.pdb\n",
      "../out/H0215/CPM/relaxed_model_4_v3.pdb\n",
      "../out/H0215/CPM/relaxed_model_5_v3.pdb\n",
      "../out/H0215/CPM/relaxed_model_3_v3.pdb\n",
      "../out/H0215/CPM/relaxed_model_2_v3.pdb\n",
      "../out/H0215/CPM/relaxed_model_4_v2.pdb\n",
      "30\n"
     ]
    }
   ],
   "source": [
    "pdbs = []\n",
    "pdbs.extend(glob(r\"../out/H0215/AF0/relaxed_*.pdb\"))\n",
    "pdbs.extend(glob(r\"../out/H0215/AF1/relaxed_*.pdb\"))\n",
    "pdbs.extend(glob(r\"../out/H0215/NP0/relaxed_*.pdb\"))\n",
    "pdbs.extend(glob(r\"../out/H0215/C2M/relaxed_*.pdb\"))\n",
    "pdbs.extend(glob(r\"../out/H0215/CPM/relaxed_*.pdb\"))\n",
    "\n",
    "for x in pdbs:\n",
    "    print(x)\n",
    "print(len(pdbs))"
   ]
  },
  {
   "cell_type": "code",
   "execution_count": 23,
   "metadata": {},
   "outputs": [
    {
     "data": {
      "text/plain": [
       "{'AF0/relaxed_model_1_v2': 0.358,\n",
       " 'AF0/relaxed_model_1_v3': 0.37,\n",
       " 'AF0/relaxed_model_2_v2': 0.243,\n",
       " 'AF0/relaxed_model_2_v3': 0.308,\n",
       " 'AF0/relaxed_model_3_v2': 0.248,\n",
       " 'AF0/relaxed_model_3_v3': 0.228,\n",
       " 'AF0/relaxed_model_4_v2': 0.259,\n",
       " 'AF0/relaxed_model_4_v3': 0.243,\n",
       " 'AF0/relaxed_model_5_v2': 0.22,\n",
       " 'AF0/relaxed_model_5_v3': 0.247,\n",
       " 'AF1/relaxed_model_1_v2': 0.454,\n",
       " 'AF1/relaxed_model_1_v3': 0.453,\n",
       " 'AF1/relaxed_model_2_v2': 0.223,\n",
       " 'AF1/relaxed_model_2_v3': 0.279,\n",
       " 'AF1/relaxed_model_3_v2': 0.242,\n",
       " 'AF1/relaxed_model_3_v3': 0.237,\n",
       " 'AF1/relaxed_model_4_v2': 0.679,\n",
       " 'AF1/relaxed_model_4_v3': 0.255,\n",
       " 'AF1/relaxed_model_5_v2': 0.237,\n",
       " 'AF1/relaxed_model_5_v3': 0.248,\n",
       " 'C2M/relaxed_model_1_v2': 0.326,\n",
       " 'C2M/relaxed_model_1_v3': 0.499,\n",
       " 'C2M/relaxed_model_2_v2': 0.221,\n",
       " 'C2M/relaxed_model_2_v3': 0.299,\n",
       " 'C2M/relaxed_model_3_v2': 0.244,\n",
       " 'C2M/relaxed_model_3_v3': 0.235,\n",
       " 'C2M/relaxed_model_4_v2': 0.384,\n",
       " 'C2M/relaxed_model_4_v3': 0.286,\n",
       " 'C2M/relaxed_model_5_v2': 0.219,\n",
       " 'C2M/relaxed_model_5_v3': 0.231,\n",
       " 'C2M/scores:relaxed_model_1_v2': 0.326,\n",
       " 'C2M/scores:relaxed_model_1_v3': 0.499,\n",
       " 'C2M/scores:relaxed_model_2_v2': 0.221,\n",
       " 'C2M/scores:relaxed_model_2_v3': 0.299,\n",
       " 'C2M/scores:relaxed_model_3_v2': 0.244,\n",
       " 'C2M/scores:relaxed_model_3_v3': 0.235,\n",
       " 'C2M/scores:relaxed_model_4_v2': 0.384,\n",
       " 'C2M/scores:relaxed_model_4_v3': 0.286,\n",
       " 'C2M/scores:relaxed_model_5_v2': 0.219,\n",
       " 'C2M/scores:relaxed_model_5_v3': 0.231,\n",
       " 'CPM/relaxed_model_1_v2': 0.308,\n",
       " 'CPM/relaxed_model_1_v3': 0.274,\n",
       " 'CPM/relaxed_model_2_v2': 0.277,\n",
       " 'CPM/relaxed_model_2_v3': 0.28,\n",
       " 'CPM/relaxed_model_3_v2': 0.252,\n",
       " 'CPM/relaxed_model_3_v3': 0.219,\n",
       " 'CPM/relaxed_model_4_v2': 0.644,\n",
       " 'CPM/relaxed_model_4_v3': 0.267,\n",
       " 'CPM/relaxed_model_5_v2': 0.238,\n",
       " 'CPM/relaxed_model_5_v3': 0.245,\n",
       " 'CPM/scores:relaxed_model_1_v2': 0.308,\n",
       " 'CPM/scores:relaxed_model_1_v3': 0.274,\n",
       " 'CPM/scores:relaxed_model_2_v2': 0.277,\n",
       " 'CPM/scores:relaxed_model_2_v3': 0.28,\n",
       " 'CPM/scores:relaxed_model_3_v2': 0.252,\n",
       " 'CPM/scores:relaxed_model_3_v3': 0.219,\n",
       " 'CPM/scores:relaxed_model_4_v2': 0.644,\n",
       " 'CPM/scores:relaxed_model_4_v3': 0.267,\n",
       " 'CPM/scores:relaxed_model_5_v2': 0.238,\n",
       " 'CPM/scores:relaxed_model_5_v3': 0.245,\n",
       " 'NP0/relaxed_model_1_v2': 0.449,\n",
       " 'NP0/relaxed_model_1_v3': 0.268,\n",
       " 'NP0/relaxed_model_2_v2': 0.236,\n",
       " 'NP0/relaxed_model_2_v3': 0.266,\n",
       " 'NP0/relaxed_model_3_v2': 0.259,\n",
       " 'NP0/relaxed_model_3_v3': 0.266,\n",
       " 'NP0/relaxed_model_4_v2': 0.241,\n",
       " 'NP0/relaxed_model_4_v3': 0.258,\n",
       " 'NP0/relaxed_model_5_v2': 0.269,\n",
       " 'NP0/relaxed_model_5_v3': 0.245}"
      ]
     },
     "execution_count": 23,
     "metadata": {},
     "output_type": "execute_result"
    }
   ],
   "source": [
    "scores = {}\n",
    "with open(\"/gpfs/deepfold/casp/casp16/H0215/scores\", \"r\") as fp:\n",
    "    lines = fp.readlines()\n",
    "for line in lines:\n",
    "    line = line.replace(\"recycle_\", \"relaxed_\").replace(\"/frame_20.pdb\", \"\").replace(\":REMARK\", \"\")\n",
    "    sp = line.split()\n",
    "    name = sp[0]\n",
    "    conf = float(sp[6].split(\"=\")[1])\n",
    "    scores[name] = conf\n",
    "\n",
    "scores"
   ]
  },
  {
   "cell_type": "code",
   "execution_count": 24,
   "metadata": {},
   "outputs": [
    {
     "data": {
      "text/plain": [
       "435"
      ]
     },
     "execution_count": 24,
     "metadata": {},
     "output_type": "execute_result"
    }
   ],
   "source": [
    "pairs = list(combinations(pdbs, 2))\n",
    "len(pairs)"
   ]
  },
  {
   "cell_type": "code",
   "execution_count": 30,
   "metadata": {},
   "outputs": [
    {
     "name": "stdout",
     "output_type": "stream",
     "text": [
      "cluster=1   size=5\n",
      "0.644 CPM/relaxed_model_4_v2 C2M/relaxed_model_4_v2 AF0/relaxed_model_1_v2 AF0/relaxed_model_4_v2 AF0/relaxed_model_3_v3\n",
      "cluster=2   size=5\n",
      "0.499 C2M/relaxed_model_1_v3 AF0/relaxed_model_1_v3 CPM/relaxed_model_5_v2 AF0/relaxed_model_5_v2 C2M/relaxed_model_5_v2\n",
      "cluster=3   size=2\n",
      "0.274 CPM/relaxed_model_1_v3 AF0/relaxed_model_5_v3\n",
      "cluster=4   size=17\n",
      "0.308 AF0/relaxed_model_2_v3 CPM/relaxed_model_1_v2 C2M/relaxed_model_2_v3 C2M/relaxed_model_4_v3 CPM/relaxed_model_2_v3 CPM/relaxed_model_2_v2 CPM/relaxed_model_4_v3 CPM/relaxed_model_3_v2 AF0/relaxed_model_3_v2 CPM/relaxed_model_5_v3 C2M/relaxed_model_3_v2 AF0/relaxed_model_2_v2 AF0/relaxed_model_4_v3 C2M/relaxed_model_3_v3 C2M/relaxed_model_5_v3 C2M/relaxed_model_2_v2 CPM/relaxed_model_3_v3\n",
      "cluster=5   size=1\n",
      "0.326 C2M/relaxed_model_1_v2\n",
      "Total 5 clusters\n"
     ]
    }
   ],
   "source": [
    "pool = Pool(processes=32)\n",
    "dist = pool.map(get_dist, pairs)\n",
    "dist = np.asarray(dist)\n",
    "dist = 1.0 - dist\n",
    "dij = squareform(dist)\n",
    "z = ward(dist)\n",
    "cluster = fcluster(z, t=0.03, criterion=\"distance\")\n",
    "uniq = np.unique(cluster)\n",
    "\n",
    "for k in range(1, len(uniq) + 1):\n",
    "    mask = cluster == k\n",
    "    nn = np.sum(mask)\n",
    "\n",
    "    print(f\"cluster={k:<3} size={nn}\")\n",
    "    members = [p.replace(\"../out/H0215/\", \"\").replace(\".pdb\", \"\") for m, p in zip(mask, pdbs) if m]\n",
    "    m2s = [(m, scores.get(m, 0.0)) for m in members]\n",
    "    m2s.sort(key=lambda x: x[1], reverse=True)\n",
    "    print(m2s[0][1], \" \".join(m for m, _ in m2s))\n",
    "print(\"Total\", len(uniq), \"clusters\")"
   ]
  },
  {
   "cell_type": "code",
   "execution_count": 28,
   "metadata": {},
   "outputs": [
    {
     "data": {
      "text/plain": [
       "<matplotlib.colorbar.Colorbar at 0x786429fb1f60>"
      ]
     },
     "execution_count": 28,
     "metadata": {},
     "output_type": "execute_result"
    },
    {
     "data": {
      "image/png": "[encoded data removed]",
      "text/plain": [
       "<Figure size 640x480 with 2 Axes>"
      ]
     },
     "metadata": {},
     "output_type": "display_data"
    }
   ],
   "source": [
    "plt.imshow(dij)\n",
    "plt.colorbar()"
   ]
  },
  {
   "cell_type": "code",
   "execution_count": null,
   "metadata": {},
   "outputs": [],
   "source": []
  },
  {
   "cell_type": "code",
   "execution_count": null,
   "metadata": {},
   "outputs": [],
   "source": []
  }
 ],
 "metadata": {
  "kernelspec": {
   "display_name": "deepfold2-dev",
   "language": "python",
   "name": "python3"
  },
  "language_info": {
   "codemirror_mode": {
    "name": "ipython",
    "version": 3
   },
   "file_extension": ".py",
   "mimetype": "text/x-python",
   "name": "python",
   "nbconvert_exporter": "python",
   "pygments_lexer": "ipython3",
   "version": "3.10.14"
  }
 },
 "nbformat": 4,
 "nbformat_minor": 2
}
