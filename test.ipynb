{
 "cells": [
  {
   "cell_type": "code",
   "execution_count": 6,
   "metadata": {},
   "outputs": [
    {
     "ename": "ModuleNotFoundError",
     "evalue": "No module named 'deepfold.data.search.pipeline'",
     "output_type": "error",
     "traceback": [
      "\u001b[0;31m---------------------------------------------------------------------------\u001b[0m",
      "\u001b[0;31mModuleNotFoundError\u001b[0m                       Traceback (most recent call last)",
      "Cell \u001b[0;32mIn[6], line 13\u001b[0m\n\u001b[1;32m     10\u001b[0m logging\u001b[38;5;241m.\u001b[39mbasicConfig(level\u001b[38;5;241m=\u001b[39mlogging\u001b[38;5;241m.\u001b[39mINFO)\n\u001b[1;32m     12\u001b[0m \u001b[38;5;28;01mfrom\u001b[39;00m \u001b[38;5;21;01mdeepfold\u001b[39;00m\u001b[38;5;21;01m.\u001b[39;00m\u001b[38;5;21;01mdata\u001b[39;00m\u001b[38;5;21;01m.\u001b[39;00m\u001b[38;5;21;01msearch\u001b[39;00m\u001b[38;5;21;01m.\u001b[39;00m\u001b[38;5;21;01mparsers\u001b[39;00m \u001b[38;5;28;01mimport\u001b[39;00m parse_hmmsearch_sto, parse_fasta, parse_a3m, convert_stockholm_to_a3m, parse_hhr\n\u001b[0;32m---> 13\u001b[0m \u001b[38;5;28;01mfrom\u001b[39;00m \u001b[38;5;21;01mdeepfold\u001b[39;00m\u001b[38;5;21;01m.\u001b[39;00m\u001b[38;5;21;01mdata\u001b[39;00m\u001b[38;5;21;01m.\u001b[39;00m\u001b[38;5;21;01msearch\u001b[39;00m\u001b[38;5;21;01m.\u001b[39;00m\u001b[38;5;21;01mpipeline\u001b[39;00m \u001b[38;5;28;01mimport\u001b[39;00m create_sequence_features, create_msa_features, create_template_features\n\u001b[1;32m     14\u001b[0m \u001b[38;5;28;01mfrom\u001b[39;00m \u001b[38;5;21;01mdeepfold\u001b[39;00m\u001b[38;5;21;01m.\u001b[39;00m\u001b[38;5;21;01mdata\u001b[39;00m\u001b[38;5;21;01m.\u001b[39;00m\u001b[38;5;21;01msearch\u001b[39;00m\u001b[38;5;21;01m.\u001b[39;00m\u001b[38;5;21;01mtemplates\u001b[39;00m \u001b[38;5;28;01mimport\u001b[39;00m TemplateHitFeaturizer\n\u001b[1;32m     15\u001b[0m \u001b[38;5;28;01mfrom\u001b[39;00m \u001b[38;5;21;01mdeepfold\u001b[39;00m\u001b[38;5;21;01m.\u001b[39;00m\u001b[38;5;21;01mdata\u001b[39;00m\u001b[38;5;21;01m.\u001b[39;00m\u001b[38;5;21;01msearch\u001b[39;00m\u001b[38;5;21;01m.\u001b[39;00m\u001b[38;5;21;01mcrfalign\u001b[39;00m \u001b[38;5;28;01mimport\u001b[39;00m parse_pir\n",
      "\u001b[0;31mModuleNotFoundError\u001b[0m: No module named 'deepfold.data.search.pipeline'"
     ]
    }
   ],
   "source": [
    "from pathlib import Path\n",
    "import gzip\n",
    "from datetime import datetime\n",
    "import logging\n",
    "import pickle\n",
    "import numpy as np\n",
    "\n",
    "np.set_printoptions(precision=4, edgeitems=20, linewidth=180)\n",
    "\n",
    "logging.basicConfig(level=logging.INFO)\n",
    "\n",
    "from deepfold.data.search.parsers import parse_hmmsearch_sto, parse_fasta, parse_a3m, convert_stockholm_to_a3m, parse_hhr\n",
    "from deepfold.data.search.input_features import create_sequence_features, create_msa_features, create_template_features\n",
    "from deepfold.data.search.templates import TemplateHitFeaturizer\n",
    "from deepfold.data.search.crfalign import parse_pir"
   ]
  },
  {
   "cell_type": "code",
   "execution_count": 2,
   "metadata": {},
   "outputs": [
    {
     "data": {
      "text/plain": [
       "'MLLLLTLLLFAGTVAADFQHNWQVGNEYTYLVRSRTLTSLGDLSDVHTGILIKALLTVQAKDSNVLAAKVWNGQYARVQQSMPDGWETEISDQMLELRDLPISGKPFQIRMKHGLIRDLIVDRDVPTWEVNILKSIVGQLQVDTQGENAVKVNSVQVPTDDEPYASFKAMEDSVGGKCEVLYDIAPLSDFVIHRSPELVPMPTLKGDGRHMEVIKIKNFDNCDQRINYHFGMTDNSRLEPGTNKNGKFFSRSSTSRIVISESLKHFTIQSSVTTSKMMVSPRLYDRQNGLVLSRMNLTLAKMEKTSKPLPMVDNPESTGNLVYIYNNPFSDVEERRVSKTAMNSNQIVSDNSLSSSEEKLKQDILNLRTDISSSSSSISSSEENDFWQPKPTLEDAPQNSLLPNFVGYKGKHIGKSGKVDVINAAKELIFQIANELEDASNIPVHATLEKFMILCNLMRTMNRKQISELESNMQISPNELKPNDKSQVIKQNTWTVFRDAITQTGTGPAFLTIKEWIERGTTKSMEAANIMSKLPKTVRTPTDSYIRSFFELLQNPKVSNEQFLNTAATLSFCEMIHNAQVNKRSIHNNYPVHTFGRLTSKHDNSLYDEYIPFLERELRKAHQEKDSPRIQTYIMALGMIGEPKILSVFEPYLEGKQQMTVFQRTLMVGSLGKLTETNPKLARSVLYKIYLNTMESHEVRCTAVFLLMKTNPPLSMLQRMAEFTKLDTNRQVNSAVKSTIQSLMKLKSPEWKDLAKKARSVNHLLTHHEYDYELSRGYIDEKILENQNIITHMILNYVGSEDSVIPRILYLTWYSSNGDIKVPSTKVLAMISSVKSFMELSLRSVKDRETIISAAEKIAEELKIVPEELVPLEGNLMINNKYALKFFPFDKHILDKLPTLISNYIEAVKEGKFMNVNMLDTYESVHSFPTETGLPFVYTFNVIKLTKTSGTVQAQINPDFAFIVNSNLRLTFSKNVQGRVGFVTPFEHRHFISGIDSNLHVYAPLKISLDVNTPKGNMQWKIWPMKGEEKSRLFHYSVVPFVSNHDILNLRPLSMEKGTRPMIPDDNTSLALPKNEGPFRLNVETAKTNEEMWELIDTEKLTDRLPYPWTMDNERYVKVDMYMNLEGEQKDPVIFSTSFDSKVMTRPDTDSENWTPKMMAVEPTDKQANSKTRRQEMMREAGRGIESAKSYVVDVRVHVPGESESETVLTLAWSESNVESKGRLLGFWRVEMPRSNADYEVCIGSQIMVSPETLLSYDEKMDQKPKMDFNVDIRYGKNCGKGERIDMNGKLRQSPRLKELVGATSIIKDCVEDMKRGNKILRTCQKAVVLSMLLDEVDISMEVPSDALIALYSQGLFSLSEIDNLDVSLDVSNPKNAGKKKIDVRAKLNEYLDKADVIVNTPIMDAHFKDVKLSDFGFSTEDILDTADEDLLINNVFYEDETSCMLDKTRAQTFDGKDYPLRLGPCWHAVMTTYPRINPDNHNEKLHIPKDKSVSVLSRENEAGQKEVKVLLGSDKIKFVPGTTSQPEVFVNGEKIVVSRNKAYQKVEENEIIFEIYKMGDRFIGLTSDKFDVSLALDGERVMLKASEDYRYSVRGLCGNFDHDSTNDFVGPKNCLFRKPEHFVASYALISNQCEGDSLNVAKSLQDHDCIRQERTQQRNVISDSESGRLDTEMSTWGYHHNVNKHCTIHRTQVKETDDKICFTMRPVVSCASGCTAVETKSKPYKFHCMEKNEAAMKLKKRIEKGANPDLSQKPVSTTEELTVPFVCKA'"
      ]
     },
     "execution_count": 2,
     "metadata": {},
     "output_type": "execute_result"
    }
   ],
   "source": [
    "with open(\"out/T1210.fasta\", \"r\") as fp:\n",
    "    fasta_str = fp.read()\n",
    "\n",
    "sequences, descriptions = parse_fasta(fasta_str)\n",
    "\n",
    "query_sequence = sequences[0]\n",
    "query_sequence"
   ]
  },
  {
   "cell_type": "code",
   "execution_count": 3,
   "metadata": {},
   "outputs": [
    {
     "name": "stdout",
     "output_type": "stream",
     "text": [
      "367\n",
      "index 1\n",
      "name 1LSH_A LIPOVITELLIN (LV-1N, LV-1C); LIPOVITELLIN, VITELLOGENIN, LIPOPROTEIN, PLASMA APOLIPOPROTE APOLIPOPROTEIN B, APOB, MICROSOMAL TRIGLYCERIDE TRANSFER PR BOUNDARY LIPID, PHOSPHOLIPID STRUCTURE; HET: PLD, UPL; 1.9A {Ichthyomyzon unicuspis} SCOP: f.7.1.1, a.118.4.1\n",
      "aligned_cols 866\n",
      "sum_probs 704.8\n",
      "query NWQVGNEYTYLVRSRTLTSLGDLSDVHTGILIKALLTVQAKDSNVLAAKVWNGQYARVQQSMPDGWETEISDQMLELRDLPISGKPFQIRMKHGLIRDLIVDRDVPTWEVNILKSIVGQLQVDTQGENAVKVNSVQVPTDDEPYASFKAMEDSVGGKCEVLYDIAPLSDFVIHRSPELVPMPTLKGDGRHMEVIKIKNFDNCDQRINYHFGMTDNSRLEPGTNKNGKFFSRSSTSRIVISESLKHFTIQSSVTTSKMMVSPRLY-DRQNGLVLSRMNLTLAKMEKTSKPLPMVDNPESTGNLVYIYNNPFSDVEERRVSKTAMNSNQIVSDNSLSSSEEKLKQDILNLRTDISSSSSSISSSEENDFWQPKPTLEDAPQNSLLPNFVGYKGKHIGKSGKVDVINAAKELIFQIANELEDASNIPVHATLEKFMILCNLMRTMNRKQISELESNMQISPNELKPNDKSQVIKQNTWTVFRDAITQTGTGPAFLTIKEWIERGTTKSMEAANIMSKLPKTVRTPTDSYIRSFFELLQNPKVSNEQFLNTAATLSFCEMIHNAQVNKRSIHNNYPVHTFGRLTSKHDNSLYDEYIPFLERELRKAHQEKDSPRIQTYIMALGMIGEPKILSVFEPYLEGK----QQMTVFQRTLMVGSLGKLTETNPKLARSVLYKIYLNTMESHEVRCTAVFLLMKTNPPLSMLQRMAEFTKLDTNRQVNSAVKSTIQSLMKLKSPEWKDLAKKARSVNHLLTHH--EYDYELSRGYIDEKILENQNIITHMILNYVGSEDSVIPRILYLTWYSSNGDIKVPSTKVLAMISSVKSFMELSLRSVKD-----------R----ETIISAAEKIAEELK-IVPEELVPLEGNLMINNK-YALKFFPFDKHILDKLPTL--------------ISNYIEAVKEGKFMNVN-MLDTYESVHSFPTETGLPFVYTFNVIKLTKTSGTVQAQINPDF-----------AFIVNSNLRLTFSKNVQGRVGFVTPFEHRHFISGID--SNLHVYAPLKISLDVNTPKGNMQWKIWPMKGEEKSRLFHYSVVPFVSNHD\n",
      "hit_sequence XFQPGKVYRYSYDAFSISGLPEPGVNRAGLSGEMKIEIHGHTHNQATLKITQVNLKYFLGPWPSDSFYPLT--GGYDHFIQQLEVPVRFDYSAGRIGDIYAPPQVTDTAVNIVRGILNLFQLSLKKN----------------QQTFELQETGVEGICQTTYVVQEGY------------------RTNEMAVVKTKDLNNCDHKVYKTMGTAYAERCPT-CQKMNKNLRSTAVYNYAIFDEPSGYIIKSAHSEEIQQLSVF-DIKEGNVVIESRQKLILEGIQSAPAASQA-ASLQNRGGLMYKFPSSAIT-------------------------------------------------------------------KMSSLF--VTK--------GKNLESEIHTVLKHLVENNQL---SVHEDAPAKFLRLTAFLRNVDAGVLQSIWHKLHQ-------Q-------KDYRRWILDAVPAMATSEALLFLKRTLASEQLTSAEATQIVASTL-SNQQATRESLSYARELLNTSFIRNRPILRKTAVLGYGSLVFRYCANTVS-------------CP-------DELLQPLHDLLSQSSDRAKEEEIVLALKALGNAGQPNSIKKIQRFLPGQGKSLDEYSTRVQAEAIMALRNIAKRDPRKVQEIVLPIFLNVAIKSELRIRSCIVFFESKPSVALVSMVAVRLRREPNLQVASFVYSQMRSLSRSSNPEFRDVAAACSVAIKMLGSKLDRLGCRYSKAVHVDTFNARTMAGVSADYFRINSPSGPLPRAVAAKIRGQGMGYASDIVEFGLRAEGLQELLYRGSQEQDAYGTALDRQTLLRSGQARSHVSSIHDTLRKLSDWKSVPEERPLASGYVKVHGQEVVFAELDKKMMQRISQLWHSARSHHAAAQEQIGAVVSKLEQGMDVLLTKGYVVSEVRYMQPVCIGIPMDLNLLVSGVTTNRANLSASFSSLPADMKLADLLATNIELRVAATTSMSQHAVAIMGLTTDL----AKAGMQTHYKTSAGLGVNGKIEMNARESNFKASLKPF--QQKTVVVLSTMESIVFVRD\n",
      "indices_query [20, 21, 22, 23, 24, 25, 26, 27, 28, 29, 30, 31, 32, 33, 34, 35, 36, 37, 38, 39, 40, 41, 42, 43, 44, 45, 46, 47, 48, 49, 50, 51, 52, 53, 54, 55, 56, 57, 58, 59, 60, 61, 62, 63, 64, 65, 66, 67, 68, 69, 70, 71, 72, 73, 74, 75, 76, 77, 78, 79, 80, 81, 82, 83, 84, 85, 86, 87, 88, 89, 90, 91, 92, 93, 94, 95, 96, 97, 98, 99, 100, 101, 102, 103, 104, 105, 106, 107, 108, 109, 110, 111, 112, 113, 114, 115, 116, 117, 118, 119, 120, 121, 122, 123, 124, 125, 126, 127, 128, 129, 130, 131, 132, 133, 134, 135, 136, 137, 138, 139, 140, 141, 142, 143, 144, 145, 146, 147, 148, 149, 150, 151, 152, 153, 154, 155, 156, 157, 158, 159, 160, 161, 162, 163, 164, 165, 166, 167, 168, 169, 170, 171, 172, 173, 174, 175, 176, 177, 178, 179, 180, 181, 182, 183, 184, 185, 186, 187, 188, 189, 190, 191, 192, 193, 194, 195, 196, 197, 198, 199, 200, 201, 202, 203, 204, 205, 206, 207, 208, 209, 210, 211, 212, 213, 214, 215, 216, 217, 218, 219, 220, 221, 222, 223, 224, 225, 226, 227, 228, 229, 230, 231, 232, 233, 234, 235, 236, 237, 238, 239, 240, 241, 242, 243, 244, 245, 246, 247, 248, 249, 250, 251, 252, 253, 254, 255, 256, 257, 258, 259, 260, 261, 262, 263, 264, 265, 266, 267, 268, 269, 270, 271, 272, 273, 274, 275, 276, 277, 278, 279, 280, 281, 282, 283, -1, 284, 285, 286, 287, 288, 289, 290, 291, 292, 293, 294, 295, 296, 297, 298, 299, 300, 301, 302, 303, 304, 305, 306, 307, 308, 309, 310, 311, 312, 313, 314, 315, 316, 317, 318, 319, 320, 321, 322, 323, 324, 325, 326, 327, 328, 329, 330, 331, 332, 333, 334, 335, 336, 337, 338, 339, 340, 341, 342, 343, 344, 345, 346, 347, 348, 349, 350, 351, 352, 353, 354, 355, 356, 357, 358, 359, 360, 361, 362, 363, 364, 365, 366, 367, 368, 369, 370, 371, 372, 373, 374, 375, 376, 377, 378, 379, 380, 381, 382, 383, 384, 385, 386, 387, 388, 389, 390, 391, 392, 393, 394, 395, 396, 397, 398, 399, 400, 401, 402, 403, 404, 405, 406, 407, 408, 409, 410, 411, 412, 413, 414, 415, 416, 417, 418, 419, 420, 421, 422, 423, 424, 425, 426, 427, 428, 429, 430, 431, 432, 433, 434, 435, 436, 437, 438, 439, 440, 441, 442, 443, 444, 445, 446, 447, 448, 449, 450, 451, 452, 453, 454, 455, 456, 457, 458, 459, 460, 461, 462, 463, 464, 465, 466, 467, 468, 469, 470, 471, 472, 473, 474, 475, 476, 477, 478, 479, 480, 481, 482, 483, 484, 485, 486, 487, 488, 489, 490, 491, 492, 493, 494, 495, 496, 497, 498, 499, 500, 501, 502, 503, 504, 505, 506, 507, 508, 509, 510, 511, 512, 513, 514, 515, 516, 517, 518, 519, 520, 521, 522, 523, 524, 525, 526, 527, 528, 529, 530, 531, 532, 533, 534, 535, 536, 537, 538, 539, 540, 541, 542, 543, 544, 545, 546, 547, 548, 549, 550, 551, 552, 553, 554, 555, 556, 557, 558, 559, 560, 561, 562, 563, 564, 565, 566, 567, 568, 569, 570, 571, 572, 573, 574, 575, 576, 577, 578, 579, 580, 581, 582, 583, 584, 585, 586, 587, 588, 589, 590, 591, 592, 593, 594, 595, 596, 597, 598, 599, 600, 601, 602, 603, 604, 605, 606, 607, 608, 609, 610, 611, 612, 613, 614, 615, 616, 617, 618, 619, 620, 621, 622, 623, 624, 625, 626, 627, 628, 629, 630, 631, 632, 633, 634, 635, 636, 637, 638, 639, 640, 641, 642, 643, 644, 645, 646, 647, 648, 649, 650, 651, 652, 653, 654, 655, -1, -1, -1, -1, 656, 657, 658, 659, 660, 661, 662, 663, 664, 665, 666, 667, 668, 669, 670, 671, 672, 673, 674, 675, 676, 677, 678, 679, 680, 681, 682, 683, 684, 685, 686, 687, 688, 689, 690, 691, 692, 693, 694, 695, 696, 697, 698, 699, 700, 701, 702, 703, 704, 705, 706, 707, 708, 709, 710, 711, 712, 713, 714, 715, 716, 717, 718, 719, 720, 721, 722, 723, 724, 725, 726, 727, 728, 729, 730, 731, 732, 733, 734, 735, 736, 737, 738, 739, 740, 741, 742, 743, 744, 745, 746, 747, 748, 749, 750, 751, 752, 753, 754, 755, 756, 757, 758, 759, 760, 761, 762, 763, 764, 765, 766, 767, -1, -1, 768, 769, 770, 771, 772, 773, 774, 775, 776, 777, 778, 779, 780, 781, 782, 783, 784, 785, 786, 787, 788, 789, 790, 791, 792, 793, 794, 795, 796, 797, 798, 799, 800, 801, 802, 803, 804, 805, 806, 807, 808, 809, 810, 811, 812, 813, 814, 815, 816, 817, 818, 819, 820, 821, 822, 823, 824, 825, 826, 827, 828, 829, 830, 831, 832, 833, 834, 835, 836, 837, 838, 839, 840, 841, 842, 843, 844, 845, 846, -1, -1, -1, -1, -1, -1, -1, -1, -1, -1, -1, 847, -1, -1, -1, -1, 848, 849, 850, 851, 852, 853, 854, 855, 856, 857, 858, 859, 860, 861, 862, -1, 863, 864, 865, 866, 867, 868, 869, 870, 871, 872, 873, 874, 875, 876, 877, 878, 879, 880, -1, 881, 882, 883, 884, 885, 886, 887, 888, 889, 890, 891, 892, 893, 894, 895, 896, 897, 898, 899, -1, -1, -1, -1, -1, -1, -1, -1, -1, -1, -1, -1, -1, -1, 900, 901, 902, 903, 904, 905, 906, 907, 908, 909, 910, 911, 912, 913, 914, 915, 916, -1, 917, 918, 919, 920, 921, 922, 923, 924, 925, 926, 927, 928, 929, 930, 931, 932, 933, 934, 935, 936, 937, 938, 939, 940, 941, 942, 943, 944, 945, 946, 947, 948, 949, 950, 951, 952, 953, 954, 955, 956, 957, 958, 959, -1, -1, -1, -1, -1, -1, -1, -1, -1, -1, -1, 960, 961, 962, 963, 964, 965, 966, 967, 968, 969, 970, 971, 972, 973, 974, 975, 976, 977, 978, 979, 980, 981, 982, 983, 984, 985, 986, 987, 988, 989, 990, 991, 992, 993, 994, 995, -1, -1, 996, 997, 998, 999, 1000, 1001, 1002, 1003, 1004, 1005, 1006, 1007, 1008, 1009, 1010, 1011, 1012, 1013, 1014, 1015, 1016, 1017, 1018, 1019, 1020, 1021, 1022, 1023, 1024, 1025, 1026, 1027, 1028, 1029, 1030, 1031, 1032, 1033, 1034, 1035, 1036, 1037, 1038, 1039, 1040, 1041, 1042, 1043, 1044, 1045]\n",
      "indices_hit [0, 1, 2, 3, 4, 5, 6, 7, 8, 9, 10, 11, 12, 13, 14, 15, 16, 17, 18, 19, 20, 21, 22, 23, 24, 25, 26, 27, 28, 29, 30, 31, 32, 33, 34, 35, 36, 37, 38, 39, 40, 41, 42, 43, 44, 45, 46, 47, 48, 49, 50, 51, 52, 53, 54, 55, 56, 57, 58, 59, 60, 61, 62, 63, 64, 65, 66, 67, 68, 69, 70, -1, -1, 71, 72, 73, 74, 75, 76, 77, 78, 79, 80, 81, 82, 83, 84, 85, 86, 87, 88, 89, 90, 91, 92, 93, 94, 95, 96, 97, 98, 99, 100, 101, 102, 103, 104, 105, 106, 107, 108, 109, 110, 111, 112, 113, 114, 115, 116, 117, 118, 119, 120, 121, 122, 123, 124, -1, -1, -1, -1, -1, -1, -1, -1, -1, -1, -1, -1, -1, -1, -1, -1, 125, 126, 127, 128, 129, 130, 131, 132, 133, 134, 135, 136, 137, 138, 139, 140, 141, 142, 143, 144, 145, 146, 147, 148, 149, -1, -1, -1, -1, -1, -1, -1, -1, -1, -1, -1, -1, -1, -1, -1, -1, -1, -1, 150, 151, 152, 153, 154, 155, 156, 157, 158, 159, 160, 161, 162, 163, 164, 165, 166, 167, 168, 169, 170, 171, 172, 173, 174, 175, 176, 177, 178, 179, 180, 181, 182, 183, -1, 184, 185, 186, 187, 188, 189, 190, 191, 192, 193, 194, 195, 196, 197, 198, 199, 200, 201, 202, 203, 204, 205, 206, 207, 208, 209, 210, 211, 212, 213, 214, 215, 216, 217, 218, 219, 220, 221, 222, 223, 224, -1, 225, 226, 227, 228, 229, 230, 231, 232, 233, 234, 235, 236, 237, 238, 239, 240, 241, 242, 243, 244, 245, 246, 247, 248, 249, 250, 251, 252, 253, -1, 254, 255, 256, 257, 258, 259, 260, 261, 262, 263, 264, 265, 266, 267, 268, 269, 270, 271, 272, -1, -1, -1, -1, -1, -1, -1, -1, -1, -1, -1, -1, -1, -1, -1, -1, -1, -1, -1, -1, -1, -1, -1, -1, -1, -1, -1, -1, -1, -1, -1, -1, -1, -1, -1, -1, -1, -1, -1, -1, -1, -1, -1, -1, -1, -1, -1, -1, -1, -1, -1, -1, -1, -1, -1, -1, -1, -1, -1, -1, -1, -1, -1, -1, -1, -1, -1, 273, 274, 275, 276, 277, 278, -1, -1, 279, 280, 281, -1, -1, -1, -1, -1, -1, -1, -1, 282, 283, 284, 285, 286, 287, 288, 289, 290, 291, 292, 293, 294, 295, 296, 297, 298, 299, 300, 301, 302, -1, -1, -1, 303, 304, 305, 306, 307, 308, 309, 310, 311, 312, 313, 314, 315, 316, 317, 318, 319, 320, 321, 322, 323, 324, 325, 326, 327, 328, 329, 330, 331, 332, 333, 334, 335, 336, -1, -1, -1, -1, -1, -1, -1, 337, -1, -1, -1, -1, -1, -1, -1, 338, 339, 340, 341, 342, 343, 344, 345, 346, 347, 348, 349, 350, 351, 352, 353, 354, 355, 356, 357, 358, 359, 360, 361, 362, 363, 364, 365, 366, 367, 368, 369, 370, 371, 372, 373, 374, 375, 376, 377, 378, 379, 380, 381, 382, -1, 383, 384, 385, 386, 387, 388, 389, 390, 391, 392, 393, 394, 395, 396, 397, 398, 399, 400, 401, 402, 403, 404, 405, 406, 407, 408, 409, 410, 411, 412, 413, 414, 415, 416, 417, 418, 419, 420, 421, 422, 423, 424, 425, 426, 427, 428, 429, 430, 431, -1, -1, -1, -1, -1, -1, -1, -1, -1, -1, -1, -1, -1, 432, 433, -1, -1, -1, -1, -1, -1, -1, 434, 435, 436, 437, 438, 439, 440, 441, 442, 443, 444, 445, 446, 447, 448, 449, 450, 451, 452, 453, 454, 455, 456, 457, 458, 459, 460, 461, 462, 463, 464, 465, 466, 467, 468, 469, 470, 471, 472, 473, 474, 475, 476, 477, 478, 479, 480, 481, 482, 483, 484, 485, 486, 487, 488, 489, 490, 491, 492, 493, 494, 495, 496, 497, 498, 499, 500, 501, 502, 503, 504, 505, 506, 507, 508, 509, 510, 511, 512, 513, 514, 515, 516, 517, 518, 519, 520, 521, 522, 523, 524, 525, 526, 527, 528, 529, 530, 531, 532, 533, 534, 535, 536, 537, 538, 539, 540, 541, 542, 543, 544, 545, 546, 547, 548, 549, 550, 551, 552, 553, 554, 555, 556, 557, 558, 559, 560, 561, 562, 563, 564, 565, 566, 567, 568, 569, 570, 571, 572, 573, 574, 575, 576, 577, 578, 579, 580, 581, 582, 583, 584, 585, 586, 587, 588, 589, 590, 591, 592, 593, 594, 595, 596, 597, 598, 599, 600, 601, 602, 603, 604, 605, 606, 607, 608, 609, 610, 611, 612, 613, 614, 615, 616, 617, 618, 619, 620, 621, 622, 623, 624, 625, 626, 627, 628, 629, 630, 631, 632, 633, 634, 635, 636, 637, 638, 639, 640, 641, 642, 643, 644, 645, 646, 647, 648, 649, 650, 651, 652, 653, 654, 655, 656, 657, 658, 659, 660, 661, 662, 663, 664, 665, 666, 667, 668, 669, 670, 671, 672, 673, 674, 675, 676, 677, 678, 679, 680, 681, 682, 683, 684, 685, 686, 687, 688, 689, 690, 691, 692, 693, 694, 695, 696, 697, 698, 699, 700, 701, 702, 703, 704, 705, 706, 707, 708, 709, 710, 711, 712, 713, 714, 715, 716, 717, 718, 719, 720, 721, 722, 723, 724, 725, 726, 727, 728, 729, 730, 731, 732, 733, 734, 735, 736, 737, 738, 739, 740, 741, 742, 743, 744, 745, 746, 747, 748, 749, 750, 751, 752, 753, 754, 755, 756, 757, 758, 759, 760, 761, 762, 763, 764, 765, 766, 767, 768, 769, 770, 771, 772, 773, 774, 775, 776, 777, 778, 779, 780, 781, 782, 783, 784, 785, 786, 787, 788, 789, 790, 791, 792, 793, 794, 795, 796, 797, 798, 799, 800, 801, 802, 803, 804, 805, 806, 807, 808, 809, 810, 811, 812, 813, 814, 815, 816, 817, 818, 819, 820, 821, 822, 823, 824, 825, 826, 827, 828, 829, 830, 831, 832, 833, 834, 835, 836, 837, 838, 839, 840, 841, 842, 843, 844, 845, 846, 847, 848, 849, 850, 851, 852, 853, 854, 855, 856, 857, 858, 859, 860, 861, -1, -1, -1, -1, 862, 863, 864, 865, 866, 867, 868, 869, 870, 871, 872, 873, 874, 875, 876, 877, 878, 879, 880, 881, 882, 883, 884, 885, 886, 887, 888, 889, 890, 891, 892, 893, 894, 895, 896, 897, 898, -1, -1, 899, 900, 901, 902, 903, 904, 905, 906, 907, 908, 909, 910, 911, 912, 913, 914, 915, 916, 917]\n"
     ]
    }
   ],
   "source": [
    "# with open(\"out/T1207/hmm_output.sto\", \"r\") as fp:\n",
    "#     sto_str = fp.read()\n",
    "# hits = parse_hmmsearch_sto(query_sequence, sto_str)\n",
    "\n",
    "with open(\"out/msas/pdb70_hits.hhr\", \"r\") as fp:\n",
    "    hrr_str = fp.read()\n",
    "hits = parse_hhr(hrr_str)\n",
    "\n",
    "print(len(hits))\n",
    "for k, v in vars(hits[0]).items():\n",
    "    print(k, v)"
   ]
  },
  {
   "cell_type": "code",
   "execution_count": 4,
   "metadata": {},
   "outputs": [],
   "source": [
    "featurizer = TemplateHitFeaturizer(\n",
    "    max_template_hits=20,\n",
    "    pdb_mmcif_dirpath=Path(\"/gpfs/database/casp16/pdb/mmCIF\"),\n",
    "    template_pdb_chain_ids=None,\n",
    "    # pdb_release_dates={},\n",
    "    pdb_obsolete_filepath=Path(\"/gpfs/database/casp16/pdb/obsolete.dat\"),\n",
    "    shuffle_top_k_prefiltered=None,\n",
    "    verbose=True,\n",
    ")"
   ]
  },
  {
   "cell_type": "code",
   "execution_count": 5,
   "metadata": {},
   "outputs": [
    {
     "name": "stderr",
     "output_type": "stream",
     "text": [
      "INFO:deepfold.data.search.templates:_prefilter_template_hits: query_pdb_id=None num_template_hits=50 num_accepted_hits=10 num_rejected_hits=40 rejection_messages_stats=Counter({'align_ratio <= min_align_ratio': 40})\n",
      "ERROR:deepfold.data.search.templates:DateError: Date 2023-11-29 > max template date 2022-04-30; name=8D00_A Microtubule-associated protein TORTIFOLIA1; TOG, HEAT, Alpha-solenoid, Microtubule-binding, STRUCTURAL PROTEIN; 2.8A {Arabidopsis thaliana}\n",
      "INFO:deepfold.data.search.templates:get_template_features: num_featurized_templates=9 template_domain_names=['1lsh_A', '6i7s_H', '1lsh_B', '4d50_A', '1b3u_B', '4p6z_G', '7egh_B', '7p3x_A', '6qh5_B'] errors: ['DateError: Date 2023-11-29 > max template date 2022-04-30; name=8D00_A Microtubule-associated protein TORTIFOLIA1; TOG, HEAT, Alpha-solenoid, Microtubule-binding, STRUCTURAL PROTEIN; 2.8A {Arabidopsis thaliana}']\n"
     ]
    },
    {
     "name": "stdout",
     "output_type": "stream",
     "text": [
      "dict_keys(['template_domain_names', 'template_sequence', 'template_aatype', 'template_all_atom_positions', 'template_all_atom_mask', 'template_sum_probs'])\n",
      "9\n",
      "1lsh_A 6i7s_H 1lsh_B 4d50_A 1b3u_B 4p6z_G 7egh_B 7p3x_A 6qh5_B\n"
     ]
    }
   ],
   "source": [
    "template_features = create_template_features(\n",
    "    sequence=query_sequence,\n",
    "    template_hits=hits[0:50],\n",
    "    template_hit_featurizer=featurizer,\n",
    "    max_release_date=\"2022-04-30\",\n",
    ")\n",
    "print(template_features.keys())\n",
    "print(len(template_features[\"template_aatype\"]))\n",
    "print(*template_features[\"template_domain_names\"])"
   ]
  },
  {
   "cell_type": "raw",
   "metadata": {
    "vscode": {
     "languageId": "raw"
    }
   },
   "source": [
    "a3m_strings = []\n",
    "with open(\"out/msas/bfd_uniclust_hits.a3m\", \"r\") as fp:\n",
    "    a3m_strings.append(fp.read())\n",
    "\n",
    "with open(\"out/msas/uniref90_hits.sto\", \"r\") as fp:\n",
    "    a3m_strings.append(convert_stockholm_to_a3m(fp.read(), max_sequences=10000))\n",
    "\n",
    "with open(\"out/msas/mgnify_hits.sto\", \"r\") as fp:\n",
    "    a3m_strings.append(convert_stockholm_to_a3m(fp.read(), max_sequences=5000))\n",
    "\n",
    "msa_features = create_msa_features(query_sequence, a3m_strings)\n",
    "\n",
    "print(len(msa_features[\"msa\"]))\n",
    "for k, v in msa_features.items():\n",
    "    print(k, v[0], sep=\"\\n\")"
   ]
  },
  {
   "cell_type": "code",
   "execution_count": 6,
   "metadata": {},
   "outputs": [
    {
     "name": "stdout",
     "output_type": "stream",
     "text": [
      "MLLLLTLLLFAGTVAADFQHNWQVGNEYTYLVRSRTLTSLGDLSDVHTGILIKALLTVQAKDSNVLAAKVWNGQYARVQQSMPDGWETEISDQMLELRDLPISGKPFQIRMKHGLIRDLIVDRDVPTWEVNILKSIVGQLQVDTQGENAVKVNSVQVPTDDEPYASFKAMEDSVGGKCEVLYDIAPLSDFVIHRSPELVPMPTLKGDGRHMEVIKIKNFDNCDQRINYHFGMTDNSRLEPGTNKNGKFFSRSSTSRIVISESLKHFTIQSSVTTSKMMVSPRLYDRQNGLVLSRMNLTLAKMEKTSKPLPMVDNPESTGNLVYIYNNPFSDVEERRVSKTAMNSNQIVSDNSLSSSEEKLKQDILNLRTDISSSSSSISSSEENDFWQPKPTLEDAPQNSLLPNFVGYKGKHIGKSGKVDVINAAKELIFQIANELEDASNIPVHATLEKFMILCNLMRTMNRKQISELESNMQISPNELKPNDKSQVIKQNTWTVFRDAITQTGTGPAFLTIKEWIERGTTKSMEAANIMSKLPKTVRTPTDSYIRSFFELLQNPKVSNEQFLNTAATLSFCEMIHNAQVNKRSIHNNYPVHTFGRLTSKHDNSLYDEYIPFLERELRKAHQEKDSPRIQTYIMALGMIGEPKILSVFEPYLEGKQQMTVFQRTLMVGSLGKLTETNPKLARSVLYKIYLNTMESHEVRCTAVFLLMKTNPPLSMLQRMAEFTKLDTNRQVNSAVKSTIQSLMKLKSPEWKDLAKKARSVNHLLTHHEYDYELSRGYIDEKILENQNIITHMILNYVGSEDSVIPRILYLTWYSSNGDIKVPSTKVLAMISSVKSFMELSLRSVKDRETIISAAEKIAEELKIVPEELVPLEGNLMINNKYALKFFPFDKHILDKLPTLISNYIEAVKEGKFMNVNMLDTYESVHSFPTETGLPFVYTFNVIKLTKTSGTVQAQINPDFAFIVNSNLRLTFSKNVQGRVGFVTPFEHRHFISGIDSNLHVYAPLKISLDVNTPKGNMQWKIWPMKGEEKSRLFHYSVVPFVSNHDILNLRPLSMEKGTRPMIPDDNTSLALPKNEGPFRLNVETAKTNEEMWELIDTEKLTDRLPYPWTMDNERYVKVDMYMNLEGEQKDPVIFSTSFDSKVMTRPDTDSENWTPKMMAVEPTDKQANSKTRRQEMMREAGRGIESAKSYVVDVRVHVPGESESETVLTLAWSESNVESKGRLLGFWRVEMPRSNADYEVCIGSQIMVSPETLLSYDEKMDQKPKMDFNVDIRYGKNCGKGERIDMNGKLRQSPRLKELVGATSIIKDCVEDMKRGNKILRTCQKAVVLSMLLDEVDISMEVPSDALIALYSQGLFSLSEIDNLDVSLDVSNPKNAGKKKIDVRAKLNEYLDKADVIVNTPIMDAHFKDVKLSDFGFSTEDILDTADEDLLINNVFYEDETSCMLDKTRAQTFDGKDYPLRLGPCWHAVMTTYPRINPDNHNEKLHIPKDKSVSVLSRENEAGQKEVKVLLGSDKIKFVPGTTSQPEVFVNGEKIVVSRNKAYQKVEENEIIFEIYKMGDRFIGLTSDKFDVSLALDGERVMLKASEDYRYSVRGLCGNFDHDSTNDFVGPKNCLFRKPEHFVASYALISNQCEGDSLNVAKSLQDHDCIRQERTQQRNVISDSESGRLDTEMSTWGYHHNVNKHCTIHRTQVKETDDKICFTMRPVVSCASGCTAVETKSKPYKFHCMEKNEAAMKLKKRIEKGANPDLSQKPVSTTEELTVPFVCKA\n"
     ]
    }
   ],
   "source": [
    "sequence_features = create_sequence_features(query_sequence, \"T1210\")\n",
    "seq = sequence_features[\"sequence\"][0].decode()\n",
    "print(seq)"
   ]
  },
  {
   "cell_type": "markdown",
   "metadata": {},
   "source": [
    "# CRF"
   ]
  },
  {
   "cell_type": "code",
   "execution_count": 7,
   "metadata": {},
   "outputs": [
    {
     "name": "stdout",
     "output_type": "stream",
     "text": [
      "1lsh_A 1lsh_B 6i7s_H 4d50_A 8eoj_B 7pp6_D 8d3d_A 4d50_A 5mpc_N 7zwh_E 8amz_N 6msh_U 7qcn_B 5vhf_U 4p6z_G 5nzr_B 5mu7_A 7vmq_A 6msb_U 7vmo_A\n"
     ]
    }
   ],
   "source": [
    "with open(\"/gpfs/deepfold/casp/casp16/T1210/list.crf\", \"r\") as fp:\n",
    "    lst_crf = fp.read().strip().splitlines()\n",
    "lst_crf = lst_crf[:20]\n",
    "\n",
    "crf_hits = []\n",
    "for i, chain in enumerate(lst_crf, start=1):\n",
    "    with open(f\"/gpfs/deepfold/casp/casp16/T1210/ali/crf/T1210-{chain}.pir\", \"r\") as fp:\n",
    "        lines = fp.read()\n",
    "    hit = parse_pir(lines, index=i)\n",
    "    crf_hits.append(hit)\n",
    "\n",
    "print(*lst_crf)"
   ]
  },
  {
   "cell_type": "code",
   "execution_count": 25,
   "metadata": {},
   "outputs": [
    {
     "name": "stderr",
     "output_type": "stream",
     "text": [
      "INFO:deepfold.data.search.templates:_prefilter_template_hits: query_pdb_id=None num_template_hits=20 num_accepted_hits=20 num_rejected_hits=0 rejection_messages_stats=Counter()\n",
      "ERROR:deepfold.data.search.templates:DateError: Date 2023-05-03 > max template date 2022-04-30; name=8eoj_B                                          \n",
      "ERROR:deepfold.data.search.templates:DateError: Date 2022-07-06 > max template date 2022-04-30; name=8d3d_A                                          \n",
      "ERROR:deepfold.data.search.templates:DateError: Date 2022-08-24 > max template date 2022-04-30; name=8amz_N                                          \n",
      "ERROR:deepfold.data.search.templates:DateError: Date 2022-07-13 > max template date 2022-04-30; name=7zwh_E                                          \n",
      "ERROR:deepfold.data.search.templates:DateError: Date 2022-08-10 > max template date 2022-04-30; name=7vmq_A                                          \n",
      "ERROR:deepfold.data.search.templates:DateError: Date 2022-08-10 > max template date 2022-04-30; name=7vmo_A                                          \n",
      "ERROR:deepfold.data.search.templates:DateError: Date 2023-03-08 > max template date 2022-04-30; name=7qcn_B                                          \n",
      "INFO:deepfold.data.search.templates:get_template_features: num_featurized_templates=13 template_domain_names=['1lsh_A', '6i7s_H', '7pp6_D', '1lsh_B', '5mpc_N', '4d50_A', '4d50_A', '6msh_U', '5vhf_U', '4p6z_G', '5nzr_B', '6msb_U', '5mu7_A'] errors: ['DateError: Date 2023-05-03 > max template date 2022-04-30; name=8eoj_B                                          ', 'DateError: Date 2022-07-06 > max template date 2022-04-30; name=8d3d_A                                          ', 'DateError: Date 2022-08-24 > max template date 2022-04-30; name=8amz_N                                          ', 'DateError: Date 2022-07-13 > max template date 2022-04-30; name=7zwh_E                                          ', 'DateError: Date 2022-08-10 > max template date 2022-04-30; name=7vmq_A                                          ', 'DateError: Date 2022-08-10 > max template date 2022-04-30; name=7vmo_A                                          ', 'DateError: Date 2023-03-08 > max template date 2022-04-30; name=7qcn_B                                          ']\n"
     ]
    },
    {
     "name": "stdout",
     "output_type": "stream",
     "text": [
      "1lsh_A 6i7s_H 7pp6_D 1lsh_B 5mpc_N 4d50_A 4d50_A 6msh_U 5vhf_U 4p6z_G 5nzr_B 6msb_U 5mu7_A\n"
     ]
    }
   ],
   "source": [
    "crf_features = create_template_features(\n",
    "    sequence=query_sequence,\n",
    "    template_hits=crf_hits,\n",
    "    template_hit_featurizer=featurizer,\n",
    "    max_release_date=\"2022-04-30\",\n",
    ")\n",
    "print(*crf_features[\"template_domain_names\"])"
   ]
  },
  {
   "cell_type": "code",
   "execution_count": 29,
   "metadata": {},
   "outputs": [
    {
     "name": "stdout",
     "output_type": "stream",
     "text": [
      "4d50_A 4d50_A\n"
     ]
    }
   ],
   "source": [
    "c1 = {k: v[5] for k, v in crf_features.items()}\n",
    "h1 = {k: v[3] for k, v in template_features.items()}\n",
    "print(c1[\"template_domain_names\"], h1[\"template_domain_names\"])"
   ]
  },
  {
   "cell_type": "code",
   "execution_count": 30,
   "metadata": {},
   "outputs": [
    {
     "name": "stdout",
     "output_type": "stream",
     "text": [
      "[21 21 21 21 21 21 21 21 21 21 21 21 21 21 21 21 21 21 21 21 ... 21 21 21 21 21 21 21 21 21 21 21 21 21 21 21 21 21 21 21 21]\n"
     ]
    }
   ],
   "source": [
    "aa1 = np.argmax(c1['template_aatype'], -1)\n",
    "print(aa1)"
   ]
  },
  {
   "cell_type": "code",
   "execution_count": 31,
   "metadata": {},
   "outputs": [
    {
     "name": "stdout",
     "output_type": "stream",
     "text": [
      "[21 21 21 21 21 21 21 21 21 21 21 21 21 21 21 21 21 21 21 21 ... 21 21 21 21 21 21 21 21 21 21 21 21 21 21 21 21 21 21 21 21]\n"
     ]
    }
   ],
   "source": [
    "aa2 = np.argmax(h1['template_aatype'], -1)\n",
    "print(aa2)"
   ]
  },
  {
   "cell_type": "code",
   "execution_count": 32,
   "metadata": {},
   "outputs": [
    {
     "name": "stdout",
     "output_type": "stream",
     "text": [
      "--------------------------------------------------------------------------------------------------------------------------------------------------------------------------------------------------------------------------------------------------------------------------------------------------------------------------------------------------G-----------------------------------------------------------------PLG--------------SMVTEQEVDAIGQTLVDPK-----QPLQARFRALFTLRGLGGPGAIAWISQAFDD------------DSALLKHELAYCLGQMQDARAIPMLVDVLQDTRQEPMVRHEAGEALGAI---GDPEVLEILKQYSSDP----VIEVAETCQLAVRRLEWLQQHGGEPAAGPYLS-------VDPAPPAEERDVGRLREALLD---ESRPLERYRAMFALRNAGGEEAALALAEGLHC---GSALFRHEVGYVLGQL---QHEAAVPQLAAALARCTENPMVRHECAEALGAIARP-ACLA-ALQAHADDPERVVRESCEVALDMYEHETGRAFQ----------------------------------------------------------------------------------------------------------------------------------------------------------------------------------------------------------------------------------------------------------------------------------------------------------------------------------------------------------------------------------------------------------------------------------------------------------------------------------------------------------------------------------------------------------------------------------------------------------------------------------------------------------------------------------------------------------------------------------------------------------------------------------------------------------------------------------------------------------------------------------------------------------------------------------------------------------------------------------------------------------------------------------------------------------\n",
      "-----------------------------------------------------------------------------------------------------------------------------------------------------------------------------------------------------------------------------------------------------------------------------------------------------------------------------------------------------------------------------------------------------------------------------------------------------------------------------------------------------------LLKHELAYCLGQMQDARAIPMLVDVLQDTRQEPMVRHEAGEALG-AI--GDPEVLEILKQYSSDP----VIEVAETCQLAVRRLEWLQQHGGEP-----AAGPYLSVDPA--PPAEERDVGRLREALLDE----SRPLRYRAMFALRNAGGEEAALALAEGLHC---GSALFRHEVGYVLGQLQ---HEAAVPQLAAALARCTENPMVRHECAEALGAI-ARPACLAALQAHAD-DPERVVRESCEVALDMYEHE----------------------------------------------------------------------------------------------------------------------------------------------------------------------------------------------------------------------------------------------------------------------------------------------------------------------------------------------------------------------------------------------------------------------------------------------------------------------------------------------------------------------------------------------------------------------------------------------------------------------------------------------------------------------------------------------------------------------------------------------------------------------------------------------------------------------------------------------------------------------------------------------------------------------------------------------------------------------------------------------------------------------------------------------------------------\n"
     ]
    }
   ],
   "source": [
    "print(c1[\"template_sequence\"])\n",
    "print(h1[\"template_sequence\"])"
   ]
  },
  {
   "cell_type": "code",
   "execution_count": 36,
   "metadata": {},
   "outputs": [],
   "source": [
    "p1 = c1[\"template_all_atom_positions\"][:, 1, :]\n",
    "p2 = h1[\"template_all_atom_positions\"][:, 1, :]"
   ]
  },
  {
   "cell_type": "code",
   "execution_count": 44,
   "metadata": {},
   "outputs": [
    {
     "data": {
      "text/plain": [
       "array([[  4.412, -11.419,  18.193,   4.412, -11.419,  18.193],\n",
       "       [  7.203,  -9.066,  17.284,   7.203,  -9.066,  17.284],\n",
       "       [  7.654,  -7.747,  20.799,   7.654,  -7.747,  20.799],\n",
       "       [  7.566, -11.328,  22.169,   7.566, -11.328,  22.169],\n",
       "       [ 10.841, -11.959,  20.295,  10.841, -11.959,  20.295],\n",
       "       [  9.996, -15.654,  19.999,   9.996, -15.654,  19.999],\n",
       "       [ 11.298, -17.257,  16.804,  11.298, -17.257,  16.804],\n",
       "       [  8.343, -19.692,  17.006,   8.343, -19.692,  17.006],\n",
       "       [  6.17 , -16.883,  15.579,   6.17 , -16.883,  15.579],\n",
       "       [  8.201, -16.585,  12.443,   8.201, -16.585,  12.443],\n",
       "       [  6.194, -18.878,  10.14 ,   6.194, -18.878,  10.14 ],\n",
       "       [  2.859, -17.179,  10.952,   2.859, -17.179,  10.952],\n",
       "       [  4.391, -13.707,  10.5  ,   4.391, -13.707,  10.5  ],\n",
       "       [  5.793, -14.757,   7.113,   5.793, -14.757,   7.113],\n",
       "       [  2.35 , -16.024,   6.048,   2.35 , -16.024,   6.048],\n",
       "       [  0.849, -12.62 ,   7.04 ,   0.849, -12.62 ,   7.04 ],\n",
       "       [  3.567, -10.632,   5.31 ,   3.567, -10.632,   5.31 ],\n",
       "       [  3.076, -12.67 ,   2.127,   3.076, -12.67 ,   2.127],\n",
       "       [ -0.711, -12.63 ,   2.233,  -0.711, -12.63 ,   2.233],\n",
       "       [ -1.598,  -9.882,  -0.29 ,  -1.598,  -9.882,  -0.29 ],\n",
       "       [ -5.249,  -9.924,   0.824,  -5.249,  -9.924,   0.824],\n",
       "       [ -4.212,  -8.588,   4.302,  -4.212,  -8.588,   4.302],\n",
       "       [ -4.486,  -4.739,   4.684,  -4.486,  -4.739,   4.684],\n",
       "       [ -1.158,  -2.804,   4.257,  -1.158,  -2.804,   4.257],\n",
       "       [ -1.178,  -1.933,   7.983,  -1.178,  -1.933,   7.983],\n",
       "       [ -1.349,  -5.605,   8.827,  -1.349,  -5.605,   8.827],\n",
       "       [  1.377,  -6.677,   6.363,   1.377,  -6.677,   6.363],\n",
       "       [  3.606,  -3.789,   7.479,   3.606,  -3.789,   7.479],\n",
       "       [  3.205,  -4.838,  11.085,   3.205,  -4.838,  11.085],\n",
       "       [  4.137,  -8.495,  10.302,   4.137,  -8.495,  10.302],\n",
       "       [  7.323,  -7.294,   8.456,   7.323,  -7.294,   8.456],\n",
       "       [  8.313,  -5.065,  11.345,   8.313,  -5.065,  11.345],\n",
       "       [  7.653,  -7.957,  13.725,   7.653,  -7.957,  13.725],\n",
       "       [ 10.063, -10.148,  11.754,  10.063, -10.148,  11.754],\n",
       "       [ 12.641,  -7.384,  12.338,  12.641,  -7.384,  12.338],\n",
       "       [ 11.82 ,  -7.221,  16.035,   0.   ,   0.   ,   0.   ],\n",
       "       [ 12.391, -10.868,  16.635,  11.82 ,  -7.221,  16.035],\n",
       "       [  0.   ,   0.   ,   0.   ,  12.391, -10.868,  16.635],\n",
       "       [  0.   ,   0.   ,   0.   ,   0.   ,   0.   ,   0.   ],\n",
       "       [  0.   ,   0.   ,   0.   ,   0.   ,   0.   ,   0.   ],\n",
       "       [ 15.928, -10.217,  15.371,  15.928, -10.217,  15.371],\n",
       "       [ 16.579, -13.647,  13.913,  16.579, -13.647,  13.913],\n",
       "       [ 18.638, -13.462,  10.679,  18.638, -13.462,  10.679],\n",
       "       [ 16.822, -16.561,   9.272,  16.822, -16.561,   9.272],\n",
       "       [ 14.302, -13.979,   7.955,  14.302, -13.979,   7.955],\n",
       "       [ 16.808, -11.654,   6.197,  16.808, -11.654,   6.197],\n",
       "       [ 16.221, -13.045,   2.757,  16.221, -13.045,   2.757],\n",
       "       [ 12.431, -12.641,   2.873,  12.431, -12.641,   2.873],\n",
       "       [ 12.804,  -9.115,   4.292,  12.804,  -9.115,   4.292],\n",
       "       [ 15.148,  -8.187,   1.452,  15.148,  -8.187,   1.452],\n",
       "       [ 12.623,  -9.684,  -1.052,  12.623,  -9.684,  -1.052],\n",
       "       [  9.729,  -7.666,   0.397,   9.729,  -7.666,   0.397],\n",
       "       [ 11.792,  -4.535,   0.374,  11.792,  -4.535,   0.374],\n",
       "       [ 10.475,  -4.39 ,  -3.185,  10.475,  -4.39 ,  -3.185],\n",
       "       [  6.812,  -5.035,  -2.364,   6.812,  -5.035,  -2.364],\n",
       "       [  4.358,  -2.98 ,  -4.417,   4.358,  -2.98 ,  -4.417],\n",
       "       [  0.   ,   0.   ,   0.   ,   0.   ,   0.   ,   0.   ],\n",
       "       [  0.   ,   0.   ,   0.   ,   0.   ,   0.   ,   0.   ],\n",
       "       [  0.   ,   0.   ,   0.   ,   0.   ,   0.   ,   0.   ],\n",
       "       [  0.   ,   0.   ,   0.   ,   0.   ,   0.   ,   0.   ],\n",
       "       [  2.658,  -1.634,  -1.189,   2.658,  -1.634,  -1.189],\n",
       "       [  4.901,   1.195,  -0.093,   4.901,   1.195,  -0.093],\n",
       "       [  4.301,   0.796,   3.699,   4.301,   0.796,   3.699],\n",
       "       [  5.463,  -2.844,   3.332,   5.463,  -2.844,   3.332],\n",
       "       [  8.519,  -2.056,   1.18 ,   8.519,  -2.056,   1.18 ],\n",
       "       [  9.558,   0.66 ,   3.621,   9.558,   0.66 ,   3.621],\n",
       "       [  8.94 ,  -1.474,   6.714,   8.94 ,  -1.474,   6.714],\n",
       "       [ 11.06 ,  -4.313,   5.259,  11.06 ,  -4.313,   5.259],\n",
       "       [ 13.853,  -1.886,   4.284,  13.853,  -1.886,   4.284],\n",
       "       [ 13.977,  -0.744,   7.873,  13.977,  -0.744,   7.873],\n",
       "       [ 13.944,  -4.259,   9.226,  13.944,  -4.259,   9.226],\n",
       "       [ 16.895,  -5.31 ,   6.953,  16.895,  -5.31 ,   6.953],\n",
       "       [ 18.857,  -2.336,   8.271,  18.857,  -2.336,   8.271],\n",
       "       [ 17.944,  -3.274,  11.904,  17.944,  -3.274,  11.904],\n",
       "       [ 19.09 ,  -6.85 ,  11.323,  19.09 ,  -6.85 ,  11.323],\n",
       "       [ 22.348,  -5.542,   9.827,  22.348,  -5.542,   9.827],\n",
       "       [ 22.806,  -3.292,  12.862,  22.806,  -3.292,  12.862],\n",
       "       [ 22.242,  -6.106,  15.303,  22.242,  -6.106,  15.303],\n",
       "       [ 24.704,  -8.288,  13.381,  24.704,  -8.288,  13.381],\n",
       "       [ 27.39 ,  -5.546,  13.441,  27.39 ,  -5.546,  13.441],\n",
       "       [ 26.83 ,  -4.656,  17.159,  26.83 ,  -4.656,  17.159],\n",
       "       [ 26.481,  -8.176,  18.45 ,  26.481,  -8.176,  18.45 ],\n",
       "       [ 22.936,  -7.807,  19.783,  22.936,  -7.807,  19.783],\n",
       "       [ 20.222,  -5.394,  20.872,  20.222,  -5.394,  20.872],\n",
       "       [ 21.293,  -1.966,  21.965,  21.293,  -1.966,  21.965],\n",
       "       [ 21.641,  -1.219,  25.716,   0.   ,   0.   ,   0.   ],\n",
       "       [ 18.247,  -0.964,  27.285,   0.   ,   0.   ,   0.   ],\n",
       "       [ 16.913,   2.566,  27.075,   0.   ,   0.   ,   0.   ],\n",
       "       [ 14.01 ,   4.298,  28.862,   0.   ,   0.   ,   0.   ],\n",
       "       [ 11.345,   2.367,  26.867,   0.   ,   0.   ,   0.   ],\n",
       "       [ 10.855,  -1.39 ,  27.063,  21.641,  -1.219,  25.716],\n",
       "       [  9.578,  -1.643,  23.523,  18.247,  -0.964,  27.285],\n",
       "       [  0.   ,   0.   ,   0.   ,  16.913,   2.566,  27.075],\n",
       "       [  0.   ,   0.   ,   0.   ,  14.01 ,   4.298,  28.862],\n",
       "       [  0.   ,   0.   ,   0.   ,  11.345,   2.367,  26.867],\n",
       "       [  0.   ,   0.   ,   0.   ,  10.855,  -1.39 ,  27.063],\n",
       "       [  0.   ,   0.   ,   0.   ,   9.578,  -1.643,  23.523],\n",
       "       [  0.   ,   0.   ,   0.   ,  11.562,  -3.272,  20.85 ],\n",
       "       [  0.   ,   0.   ,   0.   ,  11.919,  -0.491,  18.306],\n",
       "       [ 11.562,  -3.272,  20.85 ,  12.449,  -0.666,  14.579]], dtype=float32)"
      ]
     },
     "execution_count": 44,
     "metadata": {},
     "output_type": "execute_result"
    }
   ],
   "source": [
    "np.concatenate([p1, p2], -1)[500:600]"
   ]
  },
  {
   "cell_type": "markdown",
   "metadata": {},
   "source": [
    "# Test"
   ]
  },
  {
   "cell_type": "code",
   "execution_count": 7,
   "metadata": {},
   "outputs": [
    {
     "name": "stdout",
     "output_type": "stream",
     "text": [
      "aatype int32 (369,)\n",
      "residue_index int32 (369,)\n",
      "seq_length int32 ()\n",
      "msa int32 (4093, 369)\n",
      "num_alignments int32 ()\n",
      "template_aatype int64 (4, 369)\n",
      "template_all_atom_mask float32 (4, 369, 37)\n",
      "template_all_atom_positions float32 (4, 369, 37, 3)\n",
      "asym_id int64 (369,)\n",
      "sym_id int64 (369,)\n",
      "entity_id int64 (369,)\n",
      "deletion_matrix float32 (4093, 369)\n",
      "deletion_mean float32 (369,)\n",
      "all_atom_mask float32 (369, 37)\n",
      "all_atom_positions float64 (369, 37, 3)\n",
      "assembly_num_chains int64 ()\n",
      "entity_mask int32 (369,)\n",
      "num_templates int32 ()\n",
      "cluster_bias_mask float64 (4093,)\n",
      "bert_mask float32 (4093, 369)\n",
      "seq_mask float32 (369,)\n",
      "msa_mask float32 (4093, 369)\n"
     ]
    }
   ],
   "source": [
    "with gzip.open(\"out/features_afm.pkz\", \"rb\") as fp:\n",
    "    feats = pickle.load(fp)\n",
    "\n",
    "for k, v in feats.items():\n",
    "    if isinstance(v, np.ndarray):\n",
    "        print(k, str(v.dtype), v.shape)\n",
    "    else:\n",
    "        print(k)"
   ]
  },
  {
   "cell_type": "code",
   "execution_count": 4,
   "metadata": {},
   "outputs": [
    {
     "name": "stdout",
     "output_type": "stream",
     "text": [
      "Sampled balls: [('ball1', 'red', 'bucket1'), ('ball2', 'blue', 'bucket1'), ('ball3', 'green', 'bucket1'), ('ball4', 'yellow', 'bucket2'), ('ball5', 'red', 'bucket2'), ('ball6', 'blue', 'bucket3'), ('ball7', 'green', 'bucket3'), ('ball8', 'yellow', 'bucket3'), ('ball9', 'red', 'bucket3')]\n",
      "Groups:\n",
      "Group 1: [('ball1', 'red'), ('ball5', 'red'), ('ball9', 'red')]\n",
      "Group 2: [('ball2', 'blue'), ('ball6', 'blue'), ('ball4', 'yellow')]\n",
      "Group 3: [('ball3', 'green'), ('ball7', 'green')]\n",
      "Group 4: [('ball8', 'yellow')]\n"
     ]
    }
   ],
   "source": [
    "import random\n",
    "from collections import defaultdict\n",
    "\n",
    "def sample_balls(buckets):\n",
    "    # Collect all balls from all buckets\n",
    "    sampled_balls = []\n",
    "    for bucket_name, balls in buckets.items():\n",
    "        sampled_balls.extend([(ball, color, bucket_name) for ball, color in balls])\n",
    "    return sampled_balls\n",
    "\n",
    "def group_balls_by_color(sampled_balls):\n",
    "    balls_by_color = defaultdict(list)\n",
    "    for ball, color, bucket in sampled_balls:\n",
    "        balls_by_color[color].append((ball, bucket))\n",
    "    return balls_by_color\n",
    "\n",
    "def form_groups(balls_by_color, L):\n",
    "    groups = [[] for _ in range(L)]\n",
    "    group_indices = {i: set() for i in range(L)}\n",
    "\n",
    "    for color, balls in balls_by_color.items():\n",
    "        group_index = 0\n",
    "        for ball, bucket in balls:\n",
    "            # Try to place the ball in a group that does not have a ball from the same bucket\n",
    "            placed = False\n",
    "            for i in range(L):\n",
    "                if bucket not in group_indices[i]:\n",
    "                    groups[i].append((ball, color))\n",
    "                    group_indices[i].add(bucket)\n",
    "                    placed = True\n",
    "                    break\n",
    "            if not placed:\n",
    "                # If no suitable group is found, skip the ball\n",
    "                continue\n",
    "\n",
    "    return groups\n",
    "\n",
    "# Example usage:\n",
    "buckets = {\n",
    "    'bucket1': [('ball1', 'red'), ('ball2', 'blue'), ('ball3', 'green')],\n",
    "    'bucket2': [('ball4', 'yellow'), ('ball5', 'red')],\n",
    "    'bucket3': [('ball6', 'blue'), ('ball7', 'green'), ('ball8', 'yellow'), ('ball9', 'red')]\n",
    "}\n",
    "\n",
    "L = 4\n",
    "sampled_balls = sample_balls(buckets)\n",
    "print(\"Sampled balls:\", sampled_balls)\n",
    "\n",
    "balls_by_color = group_balls_by_color(sampled_balls)\n",
    "groups = form_groups(balls_by_color, L)\n",
    "\n",
    "print(\"Groups:\")\n",
    "for i, group in enumerate(groups):\n",
    "    print(f\"Group {i + 1}: {group}\")\n"
   ]
  },
  {
   "cell_type": "code",
   "execution_count": null,
   "metadata": {},
   "outputs": [],
   "source": []
  }
 ],
 "metadata": {
  "kernelspec": {
   "display_name": "deepfold2-dev",
   "language": "python",
   "name": "python3"
  },
  "language_info": {
   "codemirror_mode": {
    "name": "ipython",
    "version": 3
   },
   "file_extension": ".py",
   "mimetype": "text/x-python",
   "name": "python",
   "nbconvert_exporter": "python",
   "pygments_lexer": "ipython3",
   "version": "3.10.14"
  }
 },
 "nbformat": 4,
 "nbformat_minor": 2
}
